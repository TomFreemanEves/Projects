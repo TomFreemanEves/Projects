{
 "cells": [
  {
   "cell_type": "markdown",
   "metadata": {},
   "source": [
    "# Biodiversity Project"
   ]
  },
  {
   "cell_type": "markdown",
   "metadata": {},
   "source": [
    "This goal of this project is to analyze biodiversity data from the National Parks Service, particularly around various species observed in different national park locations.\n",
    "\n",
    "This project will scope, analyze, prepare, plot data, and seek to explain the findings from the analysis.\n",
    "\n",
    "Here are a few questions that this project has sought to answer:\n",
    "\n",
    "- What is the distribution of conservation status for species?\n",
    "- Are certain types of species more likely to be endangered?\n",
    "- Are the differences between species and their conservation status significant?\n",
    "- Which animal is most prevalent and what is their distribution amongst parks?\n",
    "\n",
    "\n",
    "Data sources:\n",
    "\n",
    "Both Observations.csv and Species_info.csv was provided by Codecademy.com.\n",
    "\n",
    "Note: The data for this project is inspired by real data, but is mostly fictional."
   ]
  },
  {
   "cell_type": "markdown",
   "metadata": {},
   "source": [
    "# Importing Modules"
   ]
  },
  {
   "cell_type": "code",
   "execution_count": 1,
   "metadata": {},
   "outputs": [],
   "source": [
    "import pandas as pd\n",
    "import numpy as np\n",
    "\n",
    "from matplotlib import pyplot as plt\n",
    "import seaborn as sns\n",
    "\n",
    "%matplotlib inline"
   ]
  },
  {
   "cell_type": "markdown",
   "metadata": {},
   "source": [
    "# Importing and Scoping the Data"
   ]
  },
  {
   "cell_type": "code",
   "execution_count": 2,
   "metadata": {},
   "outputs": [
    {
     "data": {
      "text/html": [
       "<div>\n",
       "<style scoped>\n",
       "    .dataframe tbody tr th:only-of-type {\n",
       "        vertical-align: middle;\n",
       "    }\n",
       "\n",
       "    .dataframe tbody tr th {\n",
       "        vertical-align: top;\n",
       "    }\n",
       "\n",
       "    .dataframe thead th {\n",
       "        text-align: right;\n",
       "    }\n",
       "</style>\n",
       "<table border=\"1\" class=\"dataframe\">\n",
       "  <thead>\n",
       "    <tr style=\"text-align: right;\">\n",
       "      <th></th>\n",
       "      <th>category</th>\n",
       "      <th>scientific_name</th>\n",
       "      <th>common_names</th>\n",
       "      <th>conservation_status</th>\n",
       "    </tr>\n",
       "  </thead>\n",
       "  <tbody>\n",
       "    <tr>\n",
       "      <th>0</th>\n",
       "      <td>Mammal</td>\n",
       "      <td>Clethrionomys gapperi gapperi</td>\n",
       "      <td>Gapper's Red-Backed Vole</td>\n",
       "      <td>NaN</td>\n",
       "    </tr>\n",
       "    <tr>\n",
       "      <th>1</th>\n",
       "      <td>Mammal</td>\n",
       "      <td>Bos bison</td>\n",
       "      <td>American Bison, Bison</td>\n",
       "      <td>NaN</td>\n",
       "    </tr>\n",
       "    <tr>\n",
       "      <th>2</th>\n",
       "      <td>Mammal</td>\n",
       "      <td>Bos taurus</td>\n",
       "      <td>Aurochs, Aurochs, Domestic Cattle (Feral), Dom...</td>\n",
       "      <td>NaN</td>\n",
       "    </tr>\n",
       "    <tr>\n",
       "      <th>3</th>\n",
       "      <td>Mammal</td>\n",
       "      <td>Ovis aries</td>\n",
       "      <td>Domestic Sheep, Mouflon, Red Sheep, Sheep (Feral)</td>\n",
       "      <td>NaN</td>\n",
       "    </tr>\n",
       "    <tr>\n",
       "      <th>4</th>\n",
       "      <td>Mammal</td>\n",
       "      <td>Cervus elaphus</td>\n",
       "      <td>Wapiti Or Elk</td>\n",
       "      <td>NaN</td>\n",
       "    </tr>\n",
       "    <tr>\n",
       "      <th>...</th>\n",
       "      <td>...</td>\n",
       "      <td>...</td>\n",
       "      <td>...</td>\n",
       "      <td>...</td>\n",
       "    </tr>\n",
       "    <tr>\n",
       "      <th>5814</th>\n",
       "      <td>Vascular Plant</td>\n",
       "      <td>Cuscuta suksdorfii</td>\n",
       "      <td>Mountain Dodder</td>\n",
       "      <td>NaN</td>\n",
       "    </tr>\n",
       "    <tr>\n",
       "      <th>5815</th>\n",
       "      <td>Vascular Plant</td>\n",
       "      <td>Datura wrightii</td>\n",
       "      <td>Sacred Datura, Sacred Thornapple, Sacred Thorn...</td>\n",
       "      <td>NaN</td>\n",
       "    </tr>\n",
       "    <tr>\n",
       "      <th>5816</th>\n",
       "      <td>Vascular Plant</td>\n",
       "      <td>Nicotiana acuminata var. multiflora</td>\n",
       "      <td>Manyflower Tobacco</td>\n",
       "      <td>NaN</td>\n",
       "    </tr>\n",
       "    <tr>\n",
       "      <th>5817</th>\n",
       "      <td>Vascular Plant</td>\n",
       "      <td>Nicotiana attenuata</td>\n",
       "      <td>Coyote Tabacco, Coyote Tobacco</td>\n",
       "      <td>NaN</td>\n",
       "    </tr>\n",
       "    <tr>\n",
       "      <th>5818</th>\n",
       "      <td>Vascular Plant</td>\n",
       "      <td>Solanum americanum</td>\n",
       "      <td>American Black Nightshade, Common Purple Night...</td>\n",
       "      <td>NaN</td>\n",
       "    </tr>\n",
       "  </tbody>\n",
       "</table>\n",
       "<p>5819 rows × 4 columns</p>\n",
       "</div>"
      ],
      "text/plain": [
       "            category                      scientific_name  \\\n",
       "0             Mammal        Clethrionomys gapperi gapperi   \n",
       "1             Mammal                            Bos bison   \n",
       "2             Mammal                           Bos taurus   \n",
       "3             Mammal                           Ovis aries   \n",
       "4             Mammal                       Cervus elaphus   \n",
       "...              ...                                  ...   \n",
       "5814  Vascular Plant                   Cuscuta suksdorfii   \n",
       "5815  Vascular Plant                      Datura wrightii   \n",
       "5816  Vascular Plant  Nicotiana acuminata var. multiflora   \n",
       "5817  Vascular Plant                  Nicotiana attenuata   \n",
       "5818  Vascular Plant                   Solanum americanum   \n",
       "\n",
       "                                           common_names conservation_status  \n",
       "0                              Gapper's Red-Backed Vole                 NaN  \n",
       "1                                 American Bison, Bison                 NaN  \n",
       "2     Aurochs, Aurochs, Domestic Cattle (Feral), Dom...                 NaN  \n",
       "3     Domestic Sheep, Mouflon, Red Sheep, Sheep (Feral)                 NaN  \n",
       "4                                         Wapiti Or Elk                 NaN  \n",
       "...                                                 ...                 ...  \n",
       "5814                                    Mountain Dodder                 NaN  \n",
       "5815  Sacred Datura, Sacred Thornapple, Sacred Thorn...                 NaN  \n",
       "5816                                 Manyflower Tobacco                 NaN  \n",
       "5817                     Coyote Tabacco, Coyote Tobacco                 NaN  \n",
       "5818  American Black Nightshade, Common Purple Night...                 NaN  \n",
       "\n",
       "[5819 rows x 4 columns]"
      ]
     },
     "execution_count": 2,
     "metadata": {},
     "output_type": "execute_result"
    }
   ],
   "source": [
    "species = pd.read_csv('species_info.csv',encoding='utf-8')\n",
    "species.head()\n",
    "species.head(-5)"
   ]
  },
  {
   "cell_type": "code",
   "execution_count": 4,
   "metadata": {},
   "outputs": [
    {
     "data": {
      "text/html": [
       "<div>\n",
       "<style scoped>\n",
       "    .dataframe tbody tr th:only-of-type {\n",
       "        vertical-align: middle;\n",
       "    }\n",
       "\n",
       "    .dataframe tbody tr th {\n",
       "        vertical-align: top;\n",
       "    }\n",
       "\n",
       "    .dataframe thead th {\n",
       "        text-align: right;\n",
       "    }\n",
       "</style>\n",
       "<table border=\"1\" class=\"dataframe\">\n",
       "  <thead>\n",
       "    <tr style=\"text-align: right;\">\n",
       "      <th></th>\n",
       "      <th>scientific_name</th>\n",
       "      <th>park_name</th>\n",
       "      <th>observations</th>\n",
       "    </tr>\n",
       "  </thead>\n",
       "  <tbody>\n",
       "    <tr>\n",
       "      <th>0</th>\n",
       "      <td>Vicia benghalensis</td>\n",
       "      <td>Great Smoky Mountains National Park</td>\n",
       "      <td>68</td>\n",
       "    </tr>\n",
       "    <tr>\n",
       "      <th>1</th>\n",
       "      <td>Neovison vison</td>\n",
       "      <td>Great Smoky Mountains National Park</td>\n",
       "      <td>77</td>\n",
       "    </tr>\n",
       "    <tr>\n",
       "      <th>2</th>\n",
       "      <td>Prunus subcordata</td>\n",
       "      <td>Yosemite National Park</td>\n",
       "      <td>138</td>\n",
       "    </tr>\n",
       "    <tr>\n",
       "      <th>3</th>\n",
       "      <td>Abutilon theophrasti</td>\n",
       "      <td>Bryce National Park</td>\n",
       "      <td>84</td>\n",
       "    </tr>\n",
       "    <tr>\n",
       "      <th>4</th>\n",
       "      <td>Githopsis specularioides</td>\n",
       "      <td>Great Smoky Mountains National Park</td>\n",
       "      <td>85</td>\n",
       "    </tr>\n",
       "    <tr>\n",
       "      <th>...</th>\n",
       "      <td>...</td>\n",
       "      <td>...</td>\n",
       "      <td>...</td>\n",
       "    </tr>\n",
       "    <tr>\n",
       "      <th>23286</th>\n",
       "      <td>Symphyotrichum frondosum</td>\n",
       "      <td>Bryce National Park</td>\n",
       "      <td>101</td>\n",
       "    </tr>\n",
       "    <tr>\n",
       "      <th>23287</th>\n",
       "      <td>Sasa palmata</td>\n",
       "      <td>Yellowstone National Park</td>\n",
       "      <td>210</td>\n",
       "    </tr>\n",
       "    <tr>\n",
       "      <th>23288</th>\n",
       "      <td>Amaranthus hybridus</td>\n",
       "      <td>Great Smoky Mountains National Park</td>\n",
       "      <td>65</td>\n",
       "    </tr>\n",
       "    <tr>\n",
       "      <th>23289</th>\n",
       "      <td>Potentilla flabellifolia</td>\n",
       "      <td>Yellowstone National Park</td>\n",
       "      <td>246</td>\n",
       "    </tr>\n",
       "    <tr>\n",
       "      <th>23290</th>\n",
       "      <td>Triodanis perfoliata var. perfoliata</td>\n",
       "      <td>Yellowstone National Park</td>\n",
       "      <td>262</td>\n",
       "    </tr>\n",
       "  </tbody>\n",
       "</table>\n",
       "<p>23291 rows × 3 columns</p>\n",
       "</div>"
      ],
      "text/plain": [
       "                            scientific_name  \\\n",
       "0                        Vicia benghalensis   \n",
       "1                            Neovison vison   \n",
       "2                         Prunus subcordata   \n",
       "3                      Abutilon theophrasti   \n",
       "4                  Githopsis specularioides   \n",
       "...                                     ...   \n",
       "23286              Symphyotrichum frondosum   \n",
       "23287                          Sasa palmata   \n",
       "23288                   Amaranthus hybridus   \n",
       "23289              Potentilla flabellifolia   \n",
       "23290  Triodanis perfoliata var. perfoliata   \n",
       "\n",
       "                                 park_name  observations  \n",
       "0      Great Smoky Mountains National Park            68  \n",
       "1      Great Smoky Mountains National Park            77  \n",
       "2                   Yosemite National Park           138  \n",
       "3                      Bryce National Park            84  \n",
       "4      Great Smoky Mountains National Park            85  \n",
       "...                                    ...           ...  \n",
       "23286                  Bryce National Park           101  \n",
       "23287            Yellowstone National Park           210  \n",
       "23288  Great Smoky Mountains National Park            65  \n",
       "23289            Yellowstone National Park           246  \n",
       "23290            Yellowstone National Park           262  \n",
       "\n",
       "[23291 rows x 3 columns]"
      ]
     },
     "execution_count": 4,
     "metadata": {},
     "output_type": "execute_result"
    }
   ],
   "source": [
    "observations = pd.read_csv('observations.csv', encoding='utf-8')\n",
    "observations.head()\n",
    "observations.head(-5)"
   ]
  },
  {
   "cell_type": "code",
   "execution_count": 5,
   "metadata": {},
   "outputs": [
    {
     "name": "stdout",
     "output_type": "stream",
     "text": [
      "species shape: (5824, 4)\n",
      "observations shape: (23296, 3)\n"
     ]
    }
   ],
   "source": [
    "print(f\"species shape: {species.shape}\")\n",
    "print(f\"observations shape: {observations.shape}\")"
   ]
  },
  {
   "cell_type": "code",
   "execution_count": 6,
   "metadata": {},
   "outputs": [
    {
     "name": "stdout",
     "output_type": "stream",
     "text": [
      "number of species:5541\n"
     ]
    }
   ],
   "source": [
    "print(f\"number of species:{species.scientific_name.nunique()}\")"
   ]
  },
  {
   "cell_type": "code",
   "execution_count": 7,
   "metadata": {},
   "outputs": [
    {
     "name": "stdout",
     "output_type": "stream",
     "text": [
      "nnumber of categories:7\n",
      "categories:['Mammal' 'Bird' 'Reptile' 'Amphibian' 'Fish' 'Vascular Plant'\n",
      " 'Nonvascular Plant']\n"
     ]
    }
   ],
   "source": [
    "print(f\"nnumber of categories:{species.category.nunique()}\")\n",
    "print(f\"categories:{species.category.unique()}\")"
   ]
  },
  {
   "cell_type": "code",
   "execution_count": 8,
   "metadata": {},
   "outputs": [
    {
     "data": {
      "text/plain": [
       "category\n",
       "Amphibian              80\n",
       "Bird                  521\n",
       "Fish                  127\n",
       "Mammal                214\n",
       "Nonvascular Plant     333\n",
       "Reptile                79\n",
       "Vascular Plant       4470\n",
       "dtype: int64"
      ]
     },
     "execution_count": 8,
     "metadata": {},
     "output_type": "execute_result"
    }
   ],
   "source": [
    "species.groupby(\"category\").size()"
   ]
  },
  {
   "cell_type": "markdown",
   "metadata": {},
   "source": [
    "There are a total of 5541 unique species which has been split into 7 categories. Vascular plant is the largest species (4470) with Reptile the smallest (79)"
   ]
  },
  {
   "cell_type": "code",
   "execution_count": 25,
   "metadata": {},
   "outputs": [
    {
     "data": {
      "image/png": "[encoded data removed]",
      "text/plain": [
       "<Figure size 640x480 with 1 Axes>"
      ]
     },
     "metadata": {},
     "output_type": "display_data"
    }
   ],
   "source": [
    "categories = species.groupby('category').size().sort_values(ascending=False).index\n",
    "counts = species.groupby('category').size().sort_values(ascending=False).values\n",
    "\n",
    "plt.bar(categories, counts)\n",
    "\n",
    "plt.title('Total Number of Species by Category')\n",
    "plt.xlabel('Category')\n",
    "plt.ylabel('Count')\n",
    "\n",
    "plt.xticks(rotation=35)\n",
    "\n",
    "plt.show()\n"
   ]
  },
  {
   "cell_type": "code",
   "execution_count": 26,
   "metadata": {},
   "outputs": [
    {
     "name": "stdout",
     "output_type": "stream",
     "text": [
      "number of conservation statuses:4\n",
      "unique conservation statuses:[nan 'Species of Concern' 'Endangered' 'Threatened' 'In Recovery']\n"
     ]
    }
   ],
   "source": [
    "print(f\"number of conservation statuses:{species.conservation_status.nunique()}\")\n",
    "print(f\"unique conservation statuses:{species.conservation_status.unique()}\")"
   ]
  },
  {
   "cell_type": "code",
   "execution_count": 27,
   "metadata": {},
   "outputs": [
    {
     "name": "stdout",
     "output_type": "stream",
     "text": [
      "na values:5633\n",
      "conservation_status\n",
      "Endangered             16\n",
      "In Recovery             4\n",
      "Species of Concern    161\n",
      "Threatened             10\n",
      "dtype: int64\n"
     ]
    }
   ],
   "source": [
    "print(f\"na values:{species.conservation_status.isna().sum()}\")\n",
    "\n",
    "print(species.groupby(\"conservation_status\").size())"
   ]
  },
  {
   "cell_type": "markdown",
   "metadata": {},
   "source": [
    "The column 'conservation_stauts' is of particular importance for our research question. I can see that there are four unique categories with 5633 NaN values. \n",
    "\n",
    "In this instance, the NaN values are not a concern as this represents that the species has no conservation status and are not at risk. I will convert these values into a usable format"
   ]
  },
  {
   "cell_type": "code",
   "execution_count": 32,
   "metadata": {},
   "outputs": [
    {
     "data": {
      "text/plain": [
       "conservation_status\n",
       "Endangered              16\n",
       "In Recovery              4\n",
       "No Intervention       5633\n",
       "Species of Concern     161\n",
       "Threatened              10\n",
       "dtype: int64"
      ]
     },
     "execution_count": 32,
     "metadata": {},
     "output_type": "execute_result"
    }
   ],
   "source": [
    "species.fillna('No Intervention', inplace=True)\n",
    "species.groupby(\"conservation_status\").size()"
   ]
  },
  {
   "cell_type": "markdown",
   "metadata": {},
   "source": [
    "The next stage is to explore the observations data set"
   ]
  },
  {
   "cell_type": "code",
   "execution_count": 28,
   "metadata": {},
   "outputs": [
    {
     "name": "stdout",
     "output_type": "stream",
     "text": [
      "number of parks:4\n",
      "unique parks:['Great Smoky Mountains National Park' 'Yosemite National Park'\n",
      " 'Bryce National Park' 'Yellowstone National Park']\n"
     ]
    }
   ],
   "source": [
    "print(f\"number of parks:{observations.park_name.nunique()}\")\n",
    "print(f\"unique parks:{observations.park_name.unique()}\")"
   ]
  },
  {
   "cell_type": "code",
   "execution_count": 31,
   "metadata": {},
   "outputs": [
    {
     "name": "stdout",
     "output_type": "stream",
     "text": [
      "number of observations:3314739\n"
     ]
    }
   ],
   "source": [
    "print(f\"number of observations:{observations.observations.sum()}\")"
   ]
  },
  {
   "cell_type": "markdown",
   "metadata": {},
   "source": [
    "The species data has been collected across four parks with a total number of 3314739 observations. "
   ]
  },
  {
   "cell_type": "markdown",
   "metadata": {},
   "source": [
    "I am happy with the current state of the data and can begin my analysis now. "
   ]
  },
  {
   "cell_type": "markdown",
   "metadata": {},
   "source": [
    "# Q1: What is the distribution of conservation status for species?"
   ]
  },
  {
   "cell_type": "code",
   "execution_count": 72,
   "metadata": {},
   "outputs": [
    {
     "data": {
      "image/png": "[encoded data removed]",
      "text/plain": [
       "<Figure size 640x480 with 1 Axes>"
      ]
     },
     "metadata": {},
     "output_type": "display_data"
    }
   ],
   "source": [
    "concern = species[species['conservation_status'].isin(['Endangered', 'In Recovery', 'Species of Concern', 'Threatened'])]\n",
    "\n",
    "concern_counts = concern.groupby('conservation_status').size().reset_index(name='count')\n",
    "no_intervention_count = species[species['conservation_status'] == 'No Intervention'].shape[0]\n",
    "\n",
    "counts = [concern_counts['count'].sum(), no_intervention_count]\n",
    "\n",
    "labels = ['Concern', 'No Intervention']\n",
    "\n",
    "plt.bar(labels, counts)\n",
    "\n",
    "plt.title('Distribution of Species by Conservation Status')\n",
    "plt.xlabel('Conservation Status')\n",
    "plt.ylabel('Number of Species')\n",
    "\n",
    "plt.show()\n"
   ]
  },
  {
   "cell_type": "code",
   "execution_count": 42,
   "metadata": {},
   "outputs": [
    {
     "name": "stdout",
     "output_type": "stream",
     "text": [
      "conservation_status    EndangeredIn RecoverySpecies of ConcernThreatened\n",
      "count                                                                191\n",
      "dtype: object\n"
     ]
    }
   ],
   "source": [
    "print(concern_counts.sum())"
   ]
  },
  {
   "cell_type": "markdown",
   "metadata": {},
   "source": [
    "The distribution of conservation status for species is 5633 in the no intervention group and 191 in the intervention group. "
   ]
  },
  {
   "cell_type": "markdown",
   "metadata": {},
   "source": [
    "# Q2: Are certain types of species more likely to be endangered?"
   ]
  },
  {
   "cell_type": "markdown",
   "metadata": {},
   "source": [
    "The first stage is to explore all of the species that are in the intervention group. I will first view this in a table and then visualise this data in a stacked chart "
   ]
  },
  {
   "cell_type": "code",
   "execution_count": 43,
   "metadata": {},
   "outputs": [
    {
     "data": {
      "text/html": [
       "<div>\n",
       "<style scoped>\n",
       "    .dataframe tbody tr th:only-of-type {\n",
       "        vertical-align: middle;\n",
       "    }\n",
       "\n",
       "    .dataframe tbody tr th {\n",
       "        vertical-align: top;\n",
       "    }\n",
       "\n",
       "    .dataframe thead th {\n",
       "        text-align: right;\n",
       "    }\n",
       "</style>\n",
       "<table border=\"1\" class=\"dataframe\">\n",
       "  <thead>\n",
       "    <tr style=\"text-align: right;\">\n",
       "      <th>category</th>\n",
       "      <th>Amphibian</th>\n",
       "      <th>Bird</th>\n",
       "      <th>Fish</th>\n",
       "      <th>Mammal</th>\n",
       "      <th>Nonvascular Plant</th>\n",
       "      <th>Reptile</th>\n",
       "      <th>Vascular Plant</th>\n",
       "    </tr>\n",
       "    <tr>\n",
       "      <th>conservation_status</th>\n",
       "      <th></th>\n",
       "      <th></th>\n",
       "      <th></th>\n",
       "      <th></th>\n",
       "      <th></th>\n",
       "      <th></th>\n",
       "      <th></th>\n",
       "    </tr>\n",
       "  </thead>\n",
       "  <tbody>\n",
       "    <tr>\n",
       "      <th>Endangered</th>\n",
       "      <td>1.0</td>\n",
       "      <td>4.0</td>\n",
       "      <td>3.0</td>\n",
       "      <td>7.0</td>\n",
       "      <td>NaN</td>\n",
       "      <td>NaN</td>\n",
       "      <td>1.0</td>\n",
       "    </tr>\n",
       "    <tr>\n",
       "      <th>In Recovery</th>\n",
       "      <td>NaN</td>\n",
       "      <td>3.0</td>\n",
       "      <td>NaN</td>\n",
       "      <td>1.0</td>\n",
       "      <td>NaN</td>\n",
       "      <td>NaN</td>\n",
       "      <td>NaN</td>\n",
       "    </tr>\n",
       "    <tr>\n",
       "      <th>Species of Concern</th>\n",
       "      <td>4.0</td>\n",
       "      <td>72.0</td>\n",
       "      <td>4.0</td>\n",
       "      <td>28.0</td>\n",
       "      <td>5.0</td>\n",
       "      <td>5.0</td>\n",
       "      <td>43.0</td>\n",
       "    </tr>\n",
       "    <tr>\n",
       "      <th>Threatened</th>\n",
       "      <td>2.0</td>\n",
       "      <td>NaN</td>\n",
       "      <td>4.0</td>\n",
       "      <td>2.0</td>\n",
       "      <td>NaN</td>\n",
       "      <td>NaN</td>\n",
       "      <td>2.0</td>\n",
       "    </tr>\n",
       "  </tbody>\n",
       "</table>\n",
       "</div>"
      ],
      "text/plain": [
       "category             Amphibian  Bird  Fish  Mammal  Nonvascular Plant  \\\n",
       "conservation_status                                                     \n",
       "Endangered                 1.0   4.0   3.0     7.0                NaN   \n",
       "In Recovery                NaN   3.0   NaN     1.0                NaN   \n",
       "Species of Concern         4.0  72.0   4.0    28.0                5.0   \n",
       "Threatened                 2.0   NaN   4.0     2.0                NaN   \n",
       "\n",
       "category             Reptile  Vascular Plant  \n",
       "conservation_status                           \n",
       "Endangered               NaN             1.0  \n",
       "In Recovery              NaN             NaN  \n",
       "Species of Concern       5.0            43.0  \n",
       "Threatened               NaN             2.0  "
      ]
     },
     "execution_count": 43,
     "metadata": {},
     "output_type": "execute_result"
    }
   ],
   "source": [
    "conservationCategory = species[species.conservation_status != \"No Intervention\"]\\\n",
    "    .groupby([\"conservation_status\", \"category\"])['scientific_name']\\\n",
    "    .count()\\\n",
    "    .unstack()\n",
    "\n",
    "conservationCategory"
   ]
  },
  {
   "cell_type": "code",
   "execution_count": 44,
   "metadata": {},
   "outputs": [
    {
     "data": {
      "image/png": "[encoded data removed]",
      "text/plain": [
       "<Figure size 800x600 with 1 Axes>"
      ]
     },
     "metadata": {},
     "output_type": "display_data"
    }
   ],
   "source": [
    "ax = conservationCategory.plot(kind = 'bar', figsize=(8,6), \n",
    "                               stacked=True)\n",
    "ax.set_xlabel(\"Conservation Status\")\n",
    "ax.set_ylabel(\"Number of Species\");"
   ]
  },
  {
   "cell_type": "markdown",
   "metadata": {},
   "source": [
    "For those in the Endangered status, 7 were mammals and 4 were birds. In the In Recovery status, there were 3 birds and 1 mammal, which could point towards the intervention being more successful for birds. Although, we cannot draw this conclusion at this stage"
   ]
  },
  {
   "cell_type": "code",
   "execution_count": 51,
   "metadata": {},
   "outputs": [
    {
     "data": {
      "text/html": [
       "<div>\n",
       "<style scoped>\n",
       "    .dataframe tbody tr th:only-of-type {\n",
       "        vertical-align: middle;\n",
       "    }\n",
       "\n",
       "    .dataframe tbody tr th {\n",
       "        vertical-align: top;\n",
       "    }\n",
       "\n",
       "    .dataframe thead th {\n",
       "        text-align: right;\n",
       "    }\n",
       "</style>\n",
       "<table border=\"1\" class=\"dataframe\">\n",
       "  <thead>\n",
       "    <tr style=\"text-align: right;\">\n",
       "      <th></th>\n",
       "      <th>category</th>\n",
       "      <th>not_protected</th>\n",
       "      <th>protected</th>\n",
       "    </tr>\n",
       "  </thead>\n",
       "  <tbody>\n",
       "    <tr>\n",
       "      <th>0</th>\n",
       "      <td>Amphibian</td>\n",
       "      <td>72</td>\n",
       "      <td>7</td>\n",
       "    </tr>\n",
       "    <tr>\n",
       "      <th>1</th>\n",
       "      <td>Bird</td>\n",
       "      <td>413</td>\n",
       "      <td>75</td>\n",
       "    </tr>\n",
       "    <tr>\n",
       "      <th>2</th>\n",
       "      <td>Fish</td>\n",
       "      <td>115</td>\n",
       "      <td>11</td>\n",
       "    </tr>\n",
       "    <tr>\n",
       "      <th>3</th>\n",
       "      <td>Mammal</td>\n",
       "      <td>146</td>\n",
       "      <td>30</td>\n",
       "    </tr>\n",
       "    <tr>\n",
       "      <th>4</th>\n",
       "      <td>Nonvascular Plant</td>\n",
       "      <td>328</td>\n",
       "      <td>5</td>\n",
       "    </tr>\n",
       "    <tr>\n",
       "      <th>5</th>\n",
       "      <td>Reptile</td>\n",
       "      <td>73</td>\n",
       "      <td>5</td>\n",
       "    </tr>\n",
       "    <tr>\n",
       "      <th>6</th>\n",
       "      <td>Vascular Plant</td>\n",
       "      <td>4216</td>\n",
       "      <td>46</td>\n",
       "    </tr>\n",
       "  </tbody>\n",
       "</table>\n",
       "</div>"
      ],
      "text/plain": [
       "            category  not_protected  protected\n",
       "0          Amphibian             72          7\n",
       "1               Bird            413         75\n",
       "2               Fish            115         11\n",
       "3             Mammal            146         30\n",
       "4  Nonvascular Plant            328          5\n",
       "5            Reptile             73          5\n",
       "6     Vascular Plant           4216         46"
      ]
     },
     "execution_count": 51,
     "metadata": {},
     "output_type": "execute_result"
    }
   ],
   "source": [
    "species['is_protected'] = species.conservation_status != 'No Intervention'\n",
    "\n",
    "category_counts = species.groupby(['category', 'is_protected'])\\\n",
    "                        .scientific_name.nunique()\\\n",
    "                        .reset_index()\\\n",
    "                        .pivot(columns='is_protected',\n",
    "                                      index='category',\n",
    "                                      values='scientific_name')\\\n",
    "                        .reset_index()\n",
    "category_counts.columns = ['category', 'not_protected', 'protected']\n",
    "\n",
    "category_counts"
   ]
  },
  {
   "cell_type": "markdown",
   "metadata": {},
   "source": [
    "Converting the above absolute numbers into percentages to gain an understanding of the distribution amongst species."
   ]
  },
  {
   "cell_type": "code",
   "execution_count": 52,
   "metadata": {},
   "outputs": [
    {
     "data": {
      "text/html": [
       "<div>\n",
       "<style scoped>\n",
       "    .dataframe tbody tr th:only-of-type {\n",
       "        vertical-align: middle;\n",
       "    }\n",
       "\n",
       "    .dataframe tbody tr th {\n",
       "        vertical-align: top;\n",
       "    }\n",
       "\n",
       "    .dataframe thead th {\n",
       "        text-align: right;\n",
       "    }\n",
       "</style>\n",
       "<table border=\"1\" class=\"dataframe\">\n",
       "  <thead>\n",
       "    <tr style=\"text-align: right;\">\n",
       "      <th></th>\n",
       "      <th>category</th>\n",
       "      <th>not_protected</th>\n",
       "      <th>protected</th>\n",
       "      <th>percent_protected</th>\n",
       "    </tr>\n",
       "  </thead>\n",
       "  <tbody>\n",
       "    <tr>\n",
       "      <th>0</th>\n",
       "      <td>Amphibian</td>\n",
       "      <td>72</td>\n",
       "      <td>7</td>\n",
       "      <td>8.860759</td>\n",
       "    </tr>\n",
       "    <tr>\n",
       "      <th>1</th>\n",
       "      <td>Bird</td>\n",
       "      <td>413</td>\n",
       "      <td>75</td>\n",
       "      <td>15.368852</td>\n",
       "    </tr>\n",
       "    <tr>\n",
       "      <th>2</th>\n",
       "      <td>Fish</td>\n",
       "      <td>115</td>\n",
       "      <td>11</td>\n",
       "      <td>8.730159</td>\n",
       "    </tr>\n",
       "    <tr>\n",
       "      <th>3</th>\n",
       "      <td>Mammal</td>\n",
       "      <td>146</td>\n",
       "      <td>30</td>\n",
       "      <td>17.045455</td>\n",
       "    </tr>\n",
       "    <tr>\n",
       "      <th>4</th>\n",
       "      <td>Nonvascular Plant</td>\n",
       "      <td>328</td>\n",
       "      <td>5</td>\n",
       "      <td>1.501502</td>\n",
       "    </tr>\n",
       "    <tr>\n",
       "      <th>5</th>\n",
       "      <td>Reptile</td>\n",
       "      <td>73</td>\n",
       "      <td>5</td>\n",
       "      <td>6.410256</td>\n",
       "    </tr>\n",
       "    <tr>\n",
       "      <th>6</th>\n",
       "      <td>Vascular Plant</td>\n",
       "      <td>4216</td>\n",
       "      <td>46</td>\n",
       "      <td>1.079305</td>\n",
       "    </tr>\n",
       "  </tbody>\n",
       "</table>\n",
       "</div>"
      ],
      "text/plain": [
       "            category  not_protected  protected  percent_protected\n",
       "0          Amphibian             72          7           8.860759\n",
       "1               Bird            413         75          15.368852\n",
       "2               Fish            115         11           8.730159\n",
       "3             Mammal            146         30          17.045455\n",
       "4  Nonvascular Plant            328          5           1.501502\n",
       "5            Reptile             73          5           6.410256\n",
       "6     Vascular Plant           4216         46           1.079305"
      ]
     },
     "execution_count": 52,
     "metadata": {},
     "output_type": "execute_result"
    }
   ],
   "source": [
    "category_counts['percent_protected'] = category_counts.protected / \\\n",
    "                                      (category_counts.protected + category_counts.not_protected) * 100\n",
    "\n",
    "category_counts"
   ]
  },
  {
   "cell_type": "markdown",
   "metadata": {},
   "source": [
    "Mammals (17%) and Birds (15%) are the most endangered species in the parks with both species of plant, Vascular Plant and Nonvascular Plant, the least endangered (1% and 1.5% respectively) "
   ]
  },
  {
   "cell_type": "markdown",
   "metadata": {},
   "source": [
    "# Q3: Are the differences between species and their conservation status significant?"
   ]
  },
  {
   "cell_type": "markdown",
   "metadata": {},
   "source": [
    "I will now run a chi-squared test to investigate whether thre is statistical significance between the conservation status of Mammal and Bird"
   ]
  },
  {
   "cell_type": "code",
   "execution_count": 53,
   "metadata": {
    "scrolled": true
   },
   "outputs": [
    {
     "data": {
      "text/plain": [
       "Chi2ContingencyResult(statistic=0.1617014831654557, pvalue=0.6875948096661336, dof=1, expected_freq=array([[ 27.8313253, 148.1686747],\n",
       "       [ 77.1686747, 410.8313253]]))"
      ]
     },
     "execution_count": 53,
     "metadata": {},
     "output_type": "execute_result"
    }
   ],
   "source": [
    "from scipy.stats import chi2_contingency\n",
    "\n",
    "contingency1 = [[30, 146],\n",
    "              [75, 413]]\n",
    "chi2_contingency(contingency1)"
   ]
  },
  {
   "cell_type": "markdown",
   "metadata": {},
   "source": [
    "The p-value of 0.69 is above the 0.05 threshold for significance and so I can determine that mammals are not significantly more endangered than birds"
   ]
  },
  {
   "cell_type": "markdown",
   "metadata": {},
   "source": [
    "I will now run a series of tests to check for statistical significance amongst species:"
   ]
  },
  {
   "cell_type": "markdown",
   "metadata": {},
   "source": [
    "Amphibian and Mammals:"
   ]
  },
  {
   "cell_type": "code",
   "execution_count": 59,
   "metadata": {},
   "outputs": [
    {
     "data": {
      "text/plain": [
       "Chi2ContingencyResult(statistic=2.321746712946015, pvalue=0.12757669693198975, dof=1, expected_freq=array([[ 11.4627451,  67.5372549],\n",
       "       [ 25.5372549, 150.4627451]]))"
      ]
     },
     "execution_count": 59,
     "metadata": {},
     "output_type": "execute_result"
    }
   ],
   "source": [
    "contingency1 = [[7, 72],\n",
    "              [30, 146]]\n",
    "chi2_contingency(contingency1)"
   ]
  },
  {
   "cell_type": "markdown",
   "metadata": {},
   "source": [
    "Fish and Mammals:"
   ]
  },
  {
   "cell_type": "code",
   "execution_count": 60,
   "metadata": {},
   "outputs": [
    {
     "data": {
      "text/plain": [
       "Chi2ContingencyResult(statistic=3.6476510249814145, pvalue=0.056148348448900355, dof=1, expected_freq=array([[ 17.10596026, 108.89403974],\n",
       "       [ 23.89403974, 152.10596026]]))"
      ]
     },
     "execution_count": 60,
     "metadata": {},
     "output_type": "execute_result"
    }
   ],
   "source": [
    "contingency1 = [[11, 115],\n",
    "              [30, 146]]\n",
    "chi2_contingency(contingency1)"
   ]
  },
  {
   "cell_type": "markdown",
   "metadata": {},
   "source": [
    "Reptiles and Mammals:"
   ]
  },
  {
   "cell_type": "code",
   "execution_count": 62,
   "metadata": {},
   "outputs": [
    {
     "data": {
      "text/plain": [
       "Chi2ContingencyResult(statistic=4.289183096203645, pvalue=0.03835559022969898, dof=1, expected_freq=array([[ 10.7480315,  67.2519685],\n",
       "       [ 24.2519685, 151.7480315]]))"
      ]
     },
     "execution_count": 62,
     "metadata": {},
     "output_type": "execute_result"
    }
   ],
   "source": [
    "contingency1 = [[5, 73],\n",
    "              [30, 146]]\n",
    "chi2_contingency(contingency1)"
   ]
  },
  {
   "cell_type": "markdown",
   "metadata": {},
   "source": [
    "Reptiles and Birds:"
   ]
  },
  {
   "cell_type": "code",
   "execution_count": 67,
   "metadata": {},
   "outputs": [
    {
     "data": {
      "text/plain": [
       "Chi2ContingencyResult(statistic=3.739654778685496, pvalue=0.053135422321542065, dof=1, expected_freq=array([[ 11.02473498,  66.97526502],\n",
       "       [ 68.97526502, 419.02473498]]))"
      ]
     },
     "execution_count": 67,
     "metadata": {},
     "output_type": "execute_result"
    }
   ],
   "source": [
    "contingency1 = [[5, 73],\n",
    "              [75, 413]]\n",
    "chi2_contingency(contingency1)"
   ]
  },
  {
   "cell_type": "markdown",
   "metadata": {},
   "source": [
    "Nonvascular Plants and Birds:"
   ]
  },
  {
   "cell_type": "code",
   "execution_count": 71,
   "metadata": {},
   "outputs": [
    {
     "data": {
      "text/plain": [
       "Chi2ContingencyResult(statistic=41.71745786999272, pvalue=1.0546306904974968e-10, dof=1, expected_freq=array([[ 32.44823386, 300.55176614],\n",
       "       [ 47.55176614, 440.44823386]]))"
      ]
     },
     "execution_count": 71,
     "metadata": {},
     "output_type": "execute_result"
    }
   ],
   "source": [
    "contingency1 = [[5, 328],\n",
    "              [75, 413]]\n",
    "chi2_contingency(contingency1)"
   ]
  },
  {
   "cell_type": "markdown",
   "metadata": {},
   "source": [
    "The results of the chi-squared test suggest that Mammal is at a significantly greater risk when compared to Reptile, Nonvascular and Vascular Plant.\n",
    "\n",
    "Bird is at a significantly greater risk when compared to Nonvascular and Vascular Plant.\n",
    "\n",
    "There is no significant difference between the two most endangered species Mammal and Bird. "
   ]
  },
  {
   "cell_type": "markdown",
   "metadata": {},
   "source": [
    "# Q4: Which animal is most prevalent and what is their distribution amongst parks?"
   ]
  },
  {
   "cell_type": "markdown",
   "metadata": {},
   "source": [
    "Firstly, I will look at the most occuring names from species to understand the most common animals in the dataset. "
   ]
  },
  {
   "cell_type": "code",
   "execution_count": 78,
   "metadata": {},
   "outputs": [
    {
     "data": {
      "text/plain": [
       "[['Gappers', 'RedBacked', 'Vole'],\n",
       " ['American', 'Bison', 'Bison'],\n",
       " ['Aurochs',\n",
       "  'Aurochs',\n",
       "  'Domestic',\n",
       "  'Cattle',\n",
       "  'Feral',\n",
       "  'Domesticated',\n",
       "  'Cattle'],\n",
       " ['Domestic', 'Sheep', 'Mouflon', 'Red', 'Sheep', 'Sheep', 'Feral'],\n",
       " ['Wapiti', 'Or', 'Elk'],\n",
       " ['WhiteTailed', 'Deer'],\n",
       " ['Feral', 'Hog', 'Wild', 'Pig'],\n",
       " ['Coyote'],\n",
       " ['Gray', 'Wolf'],\n",
       " ['Red', 'Wolf']]"
      ]
     },
     "execution_count": 78,
     "metadata": {},
     "output_type": "execute_result"
    }
   ],
   "source": [
    "from itertools import chain\n",
    "import string\n",
    "\n",
    "def remove_punctuations(text):\n",
    "    for punctuation in string.punctuation:\n",
    "        text = text.replace(punctuation, '')\n",
    "    return text\n",
    "\n",
    "common_Names = species[species.category == \"Mammal\"]\\\n",
    "    .common_names\\\n",
    "    .apply(remove_punctuations)\\\n",
    "    .str.split().tolist()\n",
    "\n",
    "common_Names[:10]"
   ]
  },
  {
   "cell_type": "markdown",
   "metadata": {},
   "source": [
    "I will now clean this output to remove dupicates across parks "
   ]
  },
  {
   "cell_type": "code",
   "execution_count": 77,
   "metadata": {},
   "outputs": [
    {
     "data": {
      "text/plain": [
       "[['Gappers', 'RedBacked', 'Vole'],\n",
       " ['American', 'Bison'],\n",
       " ['Aurochs', 'Domestic', 'Cattle', 'Feral', 'Domesticated'],\n",
       " ['Domestic', 'Sheep', 'Mouflon', 'Red', 'Feral'],\n",
       " ['Wapiti', 'Or', 'Elk'],\n",
       " ['WhiteTailed', 'Deer'],\n",
       " ['Feral', 'Hog', 'Wild', 'Pig'],\n",
       " ['Coyote'],\n",
       " ['Gray', 'Wolf'],\n",
       " ['Red', 'Wolf']]"
      ]
     },
     "execution_count": 77,
     "metadata": {},
     "output_type": "execute_result"
    }
   ],
   "source": [
    "cleanRows = []\n",
    "\n",
    "for item in common_Names:\n",
    "    item = list(dict.fromkeys(item))\n",
    "    cleanRows.append(item)\n",
    "    \n",
    "cleanRows[:10]"
   ]
  },
  {
   "cell_type": "markdown",
   "metadata": {},
   "source": [
    "These species will then be put into a list for easier analysis"
   ]
  },
  {
   "cell_type": "code",
   "execution_count": 79,
   "metadata": {},
   "outputs": [
    {
     "data": {
      "text/plain": [
       "['Gappers',\n",
       " 'RedBacked',\n",
       " 'Vole',\n",
       " 'American',\n",
       " 'Bison',\n",
       " 'Aurochs',\n",
       " 'Domestic',\n",
       " 'Cattle',\n",
       " 'Feral',\n",
       " 'Domesticated']"
      ]
     },
     "execution_count": 79,
     "metadata": {},
     "output_type": "execute_result"
    }
   ],
   "source": [
    "res = list(chain.from_iterable(i if isinstance(i, list) else [i] for i in cleanRows))\n",
    "res[:10]"
   ]
  },
  {
   "cell_type": "code",
   "execution_count": 81,
   "metadata": {},
   "outputs": [
    {
     "data": {
      "text/html": [
       "<div>\n",
       "<style scoped>\n",
       "    .dataframe tbody tr th:only-of-type {\n",
       "        vertical-align: middle;\n",
       "    }\n",
       "\n",
       "    .dataframe tbody tr th {\n",
       "        vertical-align: top;\n",
       "    }\n",
       "\n",
       "    .dataframe thead th {\n",
       "        text-align: right;\n",
       "    }\n",
       "</style>\n",
       "<table border=\"1\" class=\"dataframe\">\n",
       "  <thead>\n",
       "    <tr style=\"text-align: right;\">\n",
       "      <th></th>\n",
       "      <th>Word</th>\n",
       "      <th>Count</th>\n",
       "    </tr>\n",
       "  </thead>\n",
       "  <tbody>\n",
       "    <tr>\n",
       "      <th>59</th>\n",
       "      <td>Bat</td>\n",
       "      <td>23</td>\n",
       "    </tr>\n",
       "    <tr>\n",
       "      <th>68</th>\n",
       "      <td>Shrew</td>\n",
       "      <td>18</td>\n",
       "    </tr>\n",
       "    <tr>\n",
       "      <th>174</th>\n",
       "      <td>Myotis</td>\n",
       "      <td>17</td>\n",
       "    </tr>\n",
       "    <tr>\n",
       "      <th>171</th>\n",
       "      <td>Mouse</td>\n",
       "      <td>16</td>\n",
       "    </tr>\n",
       "    <tr>\n",
       "      <th>5</th>\n",
       "      <td>Chipmunk</td>\n",
       "      <td>13</td>\n",
       "    </tr>\n",
       "    <tr>\n",
       "      <th>73</th>\n",
       "      <td>Squirrel</td>\n",
       "      <td>12</td>\n",
       "    </tr>\n",
       "    <tr>\n",
       "      <th>201</th>\n",
       "      <td>American</td>\n",
       "      <td>12</td>\n",
       "    </tr>\n",
       "    <tr>\n",
       "      <th>194</th>\n",
       "      <td>Eastern</td>\n",
       "      <td>11</td>\n",
       "    </tr>\n",
       "    <tr>\n",
       "      <th>147</th>\n",
       "      <td>Vole</td>\n",
       "      <td>11</td>\n",
       "    </tr>\n",
       "    <tr>\n",
       "      <th>55</th>\n",
       "      <td>Mountain</td>\n",
       "      <td>10</td>\n",
       "    </tr>\n",
       "  </tbody>\n",
       "</table>\n",
       "</div>"
      ],
      "text/plain": [
       "         Word  Count\n",
       "59        Bat     23\n",
       "68      Shrew     18\n",
       "174    Myotis     17\n",
       "171     Mouse     16\n",
       "5    Chipmunk     13\n",
       "73   Squirrel     12\n",
       "201  American     12\n",
       "194   Eastern     11\n",
       "147      Vole     11\n",
       "55   Mountain     10"
      ]
     },
     "execution_count": 81,
     "metadata": {},
     "output_type": "execute_result"
    }
   ],
   "source": [
    "words_counted = []\n",
    "\n",
    "for i in res:\n",
    "    x = res.count(i)\n",
    "    words_counted.append((i,x))\n",
    "\n",
    "pd.DataFrame(set(words_counted), columns =['Word', 'Count']).sort_values(\"Count\", ascending = False).head(10)"
   ]
  },
  {
   "cell_type": "markdown",
   "metadata": {},
   "source": [
    "From this, I can see that Bat is the most common animal across the species data set. I will filter this further by investigating the scientific names of the animals and saving it to the df is_bat"
   ]
  },
  {
   "cell_type": "code",
   "execution_count": 82,
   "metadata": {},
   "outputs": [
    {
     "data": {
      "text/html": [
       "<div>\n",
       "<style scoped>\n",
       "    .dataframe tbody tr th:only-of-type {\n",
       "        vertical-align: middle;\n",
       "    }\n",
       "\n",
       "    .dataframe tbody tr th {\n",
       "        vertical-align: top;\n",
       "    }\n",
       "\n",
       "    .dataframe thead th {\n",
       "        text-align: right;\n",
       "    }\n",
       "</style>\n",
       "<table border=\"1\" class=\"dataframe\">\n",
       "  <thead>\n",
       "    <tr style=\"text-align: right;\">\n",
       "      <th></th>\n",
       "      <th>category</th>\n",
       "      <th>scientific_name</th>\n",
       "      <th>common_names</th>\n",
       "      <th>conservation_status</th>\n",
       "      <th>is_protected</th>\n",
       "      <th>is_bat</th>\n",
       "    </tr>\n",
       "  </thead>\n",
       "  <tbody>\n",
       "    <tr>\n",
       "      <th>0</th>\n",
       "      <td>Mammal</td>\n",
       "      <td>Clethrionomys gapperi gapperi</td>\n",
       "      <td>Gapper's Red-Backed Vole</td>\n",
       "      <td>No Intervention</td>\n",
       "      <td>False</td>\n",
       "      <td>False</td>\n",
       "    </tr>\n",
       "    <tr>\n",
       "      <th>1</th>\n",
       "      <td>Mammal</td>\n",
       "      <td>Bos bison</td>\n",
       "      <td>American Bison, Bison</td>\n",
       "      <td>No Intervention</td>\n",
       "      <td>False</td>\n",
       "      <td>False</td>\n",
       "    </tr>\n",
       "    <tr>\n",
       "      <th>2</th>\n",
       "      <td>Mammal</td>\n",
       "      <td>Bos taurus</td>\n",
       "      <td>Aurochs, Aurochs, Domestic Cattle (Feral), Dom...</td>\n",
       "      <td>No Intervention</td>\n",
       "      <td>False</td>\n",
       "      <td>False</td>\n",
       "    </tr>\n",
       "    <tr>\n",
       "      <th>3</th>\n",
       "      <td>Mammal</td>\n",
       "      <td>Ovis aries</td>\n",
       "      <td>Domestic Sheep, Mouflon, Red Sheep, Sheep (Feral)</td>\n",
       "      <td>No Intervention</td>\n",
       "      <td>False</td>\n",
       "      <td>False</td>\n",
       "    </tr>\n",
       "    <tr>\n",
       "      <th>4</th>\n",
       "      <td>Mammal</td>\n",
       "      <td>Cervus elaphus</td>\n",
       "      <td>Wapiti Or Elk</td>\n",
       "      <td>No Intervention</td>\n",
       "      <td>False</td>\n",
       "      <td>False</td>\n",
       "    </tr>\n",
       "    <tr>\n",
       "      <th>5</th>\n",
       "      <td>Mammal</td>\n",
       "      <td>Odocoileus virginianus</td>\n",
       "      <td>White-Tailed Deer</td>\n",
       "      <td>No Intervention</td>\n",
       "      <td>False</td>\n",
       "      <td>False</td>\n",
       "    </tr>\n",
       "    <tr>\n",
       "      <th>6</th>\n",
       "      <td>Mammal</td>\n",
       "      <td>Sus scrofa</td>\n",
       "      <td>Feral Hog, Wild Pig</td>\n",
       "      <td>No Intervention</td>\n",
       "      <td>False</td>\n",
       "      <td>False</td>\n",
       "    </tr>\n",
       "    <tr>\n",
       "      <th>7</th>\n",
       "      <td>Mammal</td>\n",
       "      <td>Canis latrans</td>\n",
       "      <td>Coyote</td>\n",
       "      <td>Species of Concern</td>\n",
       "      <td>True</td>\n",
       "      <td>False</td>\n",
       "    </tr>\n",
       "    <tr>\n",
       "      <th>8</th>\n",
       "      <td>Mammal</td>\n",
       "      <td>Canis lupus</td>\n",
       "      <td>Gray Wolf</td>\n",
       "      <td>Endangered</td>\n",
       "      <td>True</td>\n",
       "      <td>False</td>\n",
       "    </tr>\n",
       "    <tr>\n",
       "      <th>9</th>\n",
       "      <td>Mammal</td>\n",
       "      <td>Canis rufus</td>\n",
       "      <td>Red Wolf</td>\n",
       "      <td>Endangered</td>\n",
       "      <td>True</td>\n",
       "      <td>False</td>\n",
       "    </tr>\n",
       "  </tbody>\n",
       "</table>\n",
       "</div>"
      ],
      "text/plain": [
       "  category                scientific_name  \\\n",
       "0   Mammal  Clethrionomys gapperi gapperi   \n",
       "1   Mammal                      Bos bison   \n",
       "2   Mammal                     Bos taurus   \n",
       "3   Mammal                     Ovis aries   \n",
       "4   Mammal                 Cervus elaphus   \n",
       "5   Mammal         Odocoileus virginianus   \n",
       "6   Mammal                     Sus scrofa   \n",
       "7   Mammal                  Canis latrans   \n",
       "8   Mammal                    Canis lupus   \n",
       "9   Mammal                    Canis rufus   \n",
       "\n",
       "                                        common_names conservation_status  \\\n",
       "0                           Gapper's Red-Backed Vole     No Intervention   \n",
       "1                              American Bison, Bison     No Intervention   \n",
       "2  Aurochs, Aurochs, Domestic Cattle (Feral), Dom...     No Intervention   \n",
       "3  Domestic Sheep, Mouflon, Red Sheep, Sheep (Feral)     No Intervention   \n",
       "4                                      Wapiti Or Elk     No Intervention   \n",
       "5                                  White-Tailed Deer     No Intervention   \n",
       "6                                Feral Hog, Wild Pig     No Intervention   \n",
       "7                                             Coyote  Species of Concern   \n",
       "8                                          Gray Wolf          Endangered   \n",
       "9                                           Red Wolf          Endangered   \n",
       "\n",
       "   is_protected  is_bat  \n",
       "0         False   False  \n",
       "1         False   False  \n",
       "2         False   False  \n",
       "3         False   False  \n",
       "4         False   False  \n",
       "5         False   False  \n",
       "6         False   False  \n",
       "7          True   False  \n",
       "8          True   False  \n",
       "9          True   False  "
      ]
     },
     "execution_count": 82,
     "metadata": {},
     "output_type": "execute_result"
    }
   ],
   "source": [
    "species['is_bat'] = species.common_names.str.contains(r\"\\bBat\\b\", regex = True)\n",
    "\n",
    "species.head(10)"
   ]
  },
  {
   "cell_type": "code",
   "execution_count": 84,
   "metadata": {},
   "outputs": [
    {
     "data": {
      "text/html": [
       "<div>\n",
       "<style scoped>\n",
       "    .dataframe tbody tr th:only-of-type {\n",
       "        vertical-align: middle;\n",
       "    }\n",
       "\n",
       "    .dataframe tbody tr th {\n",
       "        vertical-align: top;\n",
       "    }\n",
       "\n",
       "    .dataframe thead th {\n",
       "        text-align: right;\n",
       "    }\n",
       "</style>\n",
       "<table border=\"1\" class=\"dataframe\">\n",
       "  <thead>\n",
       "    <tr style=\"text-align: right;\">\n",
       "      <th></th>\n",
       "      <th>category</th>\n",
       "      <th>scientific_name</th>\n",
       "      <th>common_names</th>\n",
       "      <th>conservation_status</th>\n",
       "      <th>is_protected</th>\n",
       "      <th>is_bat</th>\n",
       "    </tr>\n",
       "  </thead>\n",
       "  <tbody>\n",
       "    <tr>\n",
       "      <th>28</th>\n",
       "      <td>Mammal</td>\n",
       "      <td>Corynorhinus rafinesquii</td>\n",
       "      <td>Rafinesque's Big-Eared Bat</td>\n",
       "      <td>No Intervention</td>\n",
       "      <td>False</td>\n",
       "      <td>True</td>\n",
       "    </tr>\n",
       "    <tr>\n",
       "      <th>29</th>\n",
       "      <td>Mammal</td>\n",
       "      <td>Eptesicus fuscus</td>\n",
       "      <td>Big Brown Bat</td>\n",
       "      <td>Species of Concern</td>\n",
       "      <td>True</td>\n",
       "      <td>True</td>\n",
       "    </tr>\n",
       "    <tr>\n",
       "      <th>30</th>\n",
       "      <td>Mammal</td>\n",
       "      <td>Lasionycteris noctivagans</td>\n",
       "      <td>Silver-Haired Bat</td>\n",
       "      <td>Species of Concern</td>\n",
       "      <td>True</td>\n",
       "      <td>True</td>\n",
       "    </tr>\n",
       "    <tr>\n",
       "      <th>31</th>\n",
       "      <td>Mammal</td>\n",
       "      <td>Lasiurus borealis</td>\n",
       "      <td>Eastern Red Bat, Red Bat</td>\n",
       "      <td>No Intervention</td>\n",
       "      <td>False</td>\n",
       "      <td>True</td>\n",
       "    </tr>\n",
       "    <tr>\n",
       "      <th>32</th>\n",
       "      <td>Mammal</td>\n",
       "      <td>Lasiurus cinereus</td>\n",
       "      <td>Hoary Bat</td>\n",
       "      <td>No Intervention</td>\n",
       "      <td>False</td>\n",
       "      <td>True</td>\n",
       "    </tr>\n",
       "    <tr>\n",
       "      <th>36</th>\n",
       "      <td>Mammal</td>\n",
       "      <td>Myotis leibii</td>\n",
       "      <td>Eastern Small-Footed Bat, Eastern Small-Footed...</td>\n",
       "      <td>Species of Concern</td>\n",
       "      <td>True</td>\n",
       "      <td>True</td>\n",
       "    </tr>\n",
       "    <tr>\n",
       "      <th>37</th>\n",
       "      <td>Mammal</td>\n",
       "      <td>Myotis lucifugus</td>\n",
       "      <td>Little Brown Bat, Little Brown Myotis</td>\n",
       "      <td>Species of Concern</td>\n",
       "      <td>True</td>\n",
       "      <td>True</td>\n",
       "    </tr>\n",
       "    <tr>\n",
       "      <th>38</th>\n",
       "      <td>Mammal</td>\n",
       "      <td>Myotis septentrionalis</td>\n",
       "      <td>Northern Long-Eared Bat, Northern Myotis</td>\n",
       "      <td>Threatened</td>\n",
       "      <td>True</td>\n",
       "      <td>True</td>\n",
       "    </tr>\n",
       "    <tr>\n",
       "      <th>39</th>\n",
       "      <td>Mammal</td>\n",
       "      <td>Myotis sodalis</td>\n",
       "      <td>Indiana Bat, Indiana Or Social Myotis</td>\n",
       "      <td>Endangered</td>\n",
       "      <td>True</td>\n",
       "      <td>True</td>\n",
       "    </tr>\n",
       "    <tr>\n",
       "      <th>40</th>\n",
       "      <td>Mammal</td>\n",
       "      <td>Nycticeius humeralis</td>\n",
       "      <td>Evening Bat</td>\n",
       "      <td>No Intervention</td>\n",
       "      <td>False</td>\n",
       "      <td>True</td>\n",
       "    </tr>\n",
       "    <tr>\n",
       "      <th>3033</th>\n",
       "      <td>Mammal</td>\n",
       "      <td>Antrozous pallidus</td>\n",
       "      <td>Pallid Bat, Pallid Bat</td>\n",
       "      <td>Species of Concern</td>\n",
       "      <td>True</td>\n",
       "      <td>True</td>\n",
       "    </tr>\n",
       "    <tr>\n",
       "      <th>3034</th>\n",
       "      <td>Mammal</td>\n",
       "      <td>Corynorhinus townsendii</td>\n",
       "      <td>Mule-Eared Bat, Pacific Townsend's Big-Eared B...</td>\n",
       "      <td>No Intervention</td>\n",
       "      <td>False</td>\n",
       "      <td>True</td>\n",
       "    </tr>\n",
       "    <tr>\n",
       "      <th>3035</th>\n",
       "      <td>Mammal</td>\n",
       "      <td>Eptesicus fuscus</td>\n",
       "      <td>Big Brown Bat, Big Brown Bat</td>\n",
       "      <td>Species of Concern</td>\n",
       "      <td>True</td>\n",
       "      <td>True</td>\n",
       "    </tr>\n",
       "    <tr>\n",
       "      <th>3036</th>\n",
       "      <td>Mammal</td>\n",
       "      <td>Euderma maculatum</td>\n",
       "      <td>Spotted Bat, Spotted Bat</td>\n",
       "      <td>Species of Concern</td>\n",
       "      <td>True</td>\n",
       "      <td>True</td>\n",
       "    </tr>\n",
       "    <tr>\n",
       "      <th>3037</th>\n",
       "      <td>Mammal</td>\n",
       "      <td>Lasionycteris noctivagans</td>\n",
       "      <td>Silver-Haired Bat, Silver-Haired Bat</td>\n",
       "      <td>Species of Concern</td>\n",
       "      <td>True</td>\n",
       "      <td>True</td>\n",
       "    </tr>\n",
       "    <tr>\n",
       "      <th>3038</th>\n",
       "      <td>Mammal</td>\n",
       "      <td>Lasiurus cinereus</td>\n",
       "      <td>Hoary Bat, Hoary Bat</td>\n",
       "      <td>No Intervention</td>\n",
       "      <td>False</td>\n",
       "      <td>True</td>\n",
       "    </tr>\n",
       "    <tr>\n",
       "      <th>3040</th>\n",
       "      <td>Mammal</td>\n",
       "      <td>Myotis ciliolabrum</td>\n",
       "      <td>Small-Footed Myotis, Western Small-Footed Bat,...</td>\n",
       "      <td>No Intervention</td>\n",
       "      <td>False</td>\n",
       "      <td>True</td>\n",
       "    </tr>\n",
       "    <tr>\n",
       "      <th>3042</th>\n",
       "      <td>Mammal</td>\n",
       "      <td>Myotis lucifugus</td>\n",
       "      <td>Little Brown Bat, Little Brown Myotis, Little ...</td>\n",
       "      <td>Species of Concern</td>\n",
       "      <td>True</td>\n",
       "      <td>True</td>\n",
       "    </tr>\n",
       "    <tr>\n",
       "      <th>4461</th>\n",
       "      <td>Mammal</td>\n",
       "      <td>Eumops perotis</td>\n",
       "      <td>Western Mastiff Bat</td>\n",
       "      <td>No Intervention</td>\n",
       "      <td>False</td>\n",
       "      <td>True</td>\n",
       "    </tr>\n",
       "    <tr>\n",
       "      <th>4462</th>\n",
       "      <td>Mammal</td>\n",
       "      <td>Tadarida brasiliensis</td>\n",
       "      <td>Mexican Free-Tailed Bat</td>\n",
       "      <td>No Intervention</td>\n",
       "      <td>False</td>\n",
       "      <td>True</td>\n",
       "    </tr>\n",
       "    <tr>\n",
       "      <th>4463</th>\n",
       "      <td>Mammal</td>\n",
       "      <td>Corynorhinus townsendii</td>\n",
       "      <td>Townsend's Big-Eared Bat</td>\n",
       "      <td>No Intervention</td>\n",
       "      <td>False</td>\n",
       "      <td>True</td>\n",
       "    </tr>\n",
       "    <tr>\n",
       "      <th>4464</th>\n",
       "      <td>Mammal</td>\n",
       "      <td>Lasiurus blossevillii</td>\n",
       "      <td>Western Red Bat</td>\n",
       "      <td>Species of Concern</td>\n",
       "      <td>True</td>\n",
       "      <td>True</td>\n",
       "    </tr>\n",
       "    <tr>\n",
       "      <th>4468</th>\n",
       "      <td>Mammal</td>\n",
       "      <td>Parastrellus hesperus</td>\n",
       "      <td>Canyon Bat</td>\n",
       "      <td>No Intervention</td>\n",
       "      <td>False</td>\n",
       "      <td>True</td>\n",
       "    </tr>\n",
       "  </tbody>\n",
       "</table>\n",
       "</div>"
      ],
      "text/plain": [
       "     category            scientific_name  \\\n",
       "28     Mammal   Corynorhinus rafinesquii   \n",
       "29     Mammal           Eptesicus fuscus   \n",
       "30     Mammal  Lasionycteris noctivagans   \n",
       "31     Mammal          Lasiurus borealis   \n",
       "32     Mammal          Lasiurus cinereus   \n",
       "36     Mammal              Myotis leibii   \n",
       "37     Mammal           Myotis lucifugus   \n",
       "38     Mammal     Myotis septentrionalis   \n",
       "39     Mammal             Myotis sodalis   \n",
       "40     Mammal       Nycticeius humeralis   \n",
       "3033   Mammal         Antrozous pallidus   \n",
       "3034   Mammal    Corynorhinus townsendii   \n",
       "3035   Mammal           Eptesicus fuscus   \n",
       "3036   Mammal          Euderma maculatum   \n",
       "3037   Mammal  Lasionycteris noctivagans   \n",
       "3038   Mammal          Lasiurus cinereus   \n",
       "3040   Mammal         Myotis ciliolabrum   \n",
       "3042   Mammal           Myotis lucifugus   \n",
       "4461   Mammal             Eumops perotis   \n",
       "4462   Mammal      Tadarida brasiliensis   \n",
       "4463   Mammal    Corynorhinus townsendii   \n",
       "4464   Mammal      Lasiurus blossevillii   \n",
       "4468   Mammal      Parastrellus hesperus   \n",
       "\n",
       "                                           common_names conservation_status  \\\n",
       "28                           Rafinesque's Big-Eared Bat     No Intervention   \n",
       "29                                        Big Brown Bat  Species of Concern   \n",
       "30                                    Silver-Haired Bat  Species of Concern   \n",
       "31                             Eastern Red Bat, Red Bat     No Intervention   \n",
       "32                                            Hoary Bat     No Intervention   \n",
       "36    Eastern Small-Footed Bat, Eastern Small-Footed...  Species of Concern   \n",
       "37                Little Brown Bat, Little Brown Myotis  Species of Concern   \n",
       "38             Northern Long-Eared Bat, Northern Myotis          Threatened   \n",
       "39                Indiana Bat, Indiana Or Social Myotis          Endangered   \n",
       "40                                          Evening Bat     No Intervention   \n",
       "3033                             Pallid Bat, Pallid Bat  Species of Concern   \n",
       "3034  Mule-Eared Bat, Pacific Townsend's Big-Eared B...     No Intervention   \n",
       "3035                       Big Brown Bat, Big Brown Bat  Species of Concern   \n",
       "3036                           Spotted Bat, Spotted Bat  Species of Concern   \n",
       "3037               Silver-Haired Bat, Silver-Haired Bat  Species of Concern   \n",
       "3038                               Hoary Bat, Hoary Bat     No Intervention   \n",
       "3040  Small-Footed Myotis, Western Small-Footed Bat,...     No Intervention   \n",
       "3042  Little Brown Bat, Little Brown Myotis, Little ...  Species of Concern   \n",
       "4461                                Western Mastiff Bat     No Intervention   \n",
       "4462                            Mexican Free-Tailed Bat     No Intervention   \n",
       "4463                           Townsend's Big-Eared Bat     No Intervention   \n",
       "4464                                    Western Red Bat  Species of Concern   \n",
       "4468                                         Canyon Bat     No Intervention   \n",
       "\n",
       "      is_protected  is_bat  \n",
       "28           False    True  \n",
       "29            True    True  \n",
       "30            True    True  \n",
       "31           False    True  \n",
       "32           False    True  \n",
       "36            True    True  \n",
       "37            True    True  \n",
       "38            True    True  \n",
       "39            True    True  \n",
       "40           False    True  \n",
       "3033          True    True  \n",
       "3034         False    True  \n",
       "3035          True    True  \n",
       "3036          True    True  \n",
       "3037          True    True  \n",
       "3038         False    True  \n",
       "3040         False    True  \n",
       "3042          True    True  \n",
       "4461         False    True  \n",
       "4462         False    True  \n",
       "4463         False    True  \n",
       "4464          True    True  \n",
       "4468         False    True  "
      ]
     },
     "execution_count": 84,
     "metadata": {},
     "output_type": "execute_result"
    }
   ],
   "source": [
    "species[species.is_bat]"
   ]
  },
  {
   "cell_type": "markdown",
   "metadata": {},
   "source": [
    "The next stage is to merge the bat species with the observations data set"
   ]
  },
  {
   "cell_type": "code",
   "execution_count": 86,
   "metadata": {},
   "outputs": [
    {
     "data": {
      "text/html": [
       "<div>\n",
       "<style scoped>\n",
       "    .dataframe tbody tr th:only-of-type {\n",
       "        vertical-align: middle;\n",
       "    }\n",
       "\n",
       "    .dataframe tbody tr th {\n",
       "        vertical-align: top;\n",
       "    }\n",
       "\n",
       "    .dataframe thead th {\n",
       "        text-align: right;\n",
       "    }\n",
       "</style>\n",
       "<table border=\"1\" class=\"dataframe\">\n",
       "  <thead>\n",
       "    <tr style=\"text-align: right;\">\n",
       "      <th></th>\n",
       "      <th>scientific_name</th>\n",
       "      <th>park_name</th>\n",
       "      <th>observations</th>\n",
       "      <th>category</th>\n",
       "      <th>common_names</th>\n",
       "      <th>conservation_status</th>\n",
       "      <th>is_protected</th>\n",
       "      <th>is_bat</th>\n",
       "    </tr>\n",
       "  </thead>\n",
       "  <tbody>\n",
       "    <tr>\n",
       "      <th>0</th>\n",
       "      <td>Lasiurus blossevillii</td>\n",
       "      <td>Bryce National Park</td>\n",
       "      <td>113</td>\n",
       "      <td>Mammal</td>\n",
       "      <td>Western Red Bat</td>\n",
       "      <td>Species of Concern</td>\n",
       "      <td>True</td>\n",
       "      <td>True</td>\n",
       "    </tr>\n",
       "    <tr>\n",
       "      <th>1</th>\n",
       "      <td>Lasiurus blossevillii</td>\n",
       "      <td>Great Smoky Mountains National Park</td>\n",
       "      <td>70</td>\n",
       "      <td>Mammal</td>\n",
       "      <td>Western Red Bat</td>\n",
       "      <td>Species of Concern</td>\n",
       "      <td>True</td>\n",
       "      <td>True</td>\n",
       "    </tr>\n",
       "    <tr>\n",
       "      <th>2</th>\n",
       "      <td>Lasiurus blossevillii</td>\n",
       "      <td>Yosemite National Park</td>\n",
       "      <td>123</td>\n",
       "      <td>Mammal</td>\n",
       "      <td>Western Red Bat</td>\n",
       "      <td>Species of Concern</td>\n",
       "      <td>True</td>\n",
       "      <td>True</td>\n",
       "    </tr>\n",
       "    <tr>\n",
       "      <th>3</th>\n",
       "      <td>Lasiurus blossevillii</td>\n",
       "      <td>Yellowstone National Park</td>\n",
       "      <td>221</td>\n",
       "      <td>Mammal</td>\n",
       "      <td>Western Red Bat</td>\n",
       "      <td>Species of Concern</td>\n",
       "      <td>True</td>\n",
       "      <td>True</td>\n",
       "    </tr>\n",
       "    <tr>\n",
       "      <th>4</th>\n",
       "      <td>Corynorhinus rafinesquii</td>\n",
       "      <td>Yosemite National Park</td>\n",
       "      <td>188</td>\n",
       "      <td>Mammal</td>\n",
       "      <td>Rafinesque's Big-Eared Bat</td>\n",
       "      <td>No Intervention</td>\n",
       "      <td>False</td>\n",
       "      <td>True</td>\n",
       "    </tr>\n",
       "    <tr>\n",
       "      <th>...</th>\n",
       "      <td>...</td>\n",
       "      <td>...</td>\n",
       "      <td>...</td>\n",
       "      <td>...</td>\n",
       "      <td>...</td>\n",
       "      <td>...</td>\n",
       "      <td>...</td>\n",
       "      <td>...</td>\n",
       "    </tr>\n",
       "    <tr>\n",
       "      <th>139</th>\n",
       "      <td>Myotis sodalis</td>\n",
       "      <td>Yellowstone National Park</td>\n",
       "      <td>68</td>\n",
       "      <td>Mammal</td>\n",
       "      <td>Indiana Bat, Indiana Or Social Myotis</td>\n",
       "      <td>Endangered</td>\n",
       "      <td>True</td>\n",
       "      <td>True</td>\n",
       "    </tr>\n",
       "    <tr>\n",
       "      <th>140</th>\n",
       "      <td>Myotis leibii</td>\n",
       "      <td>Yosemite National Park</td>\n",
       "      <td>132</td>\n",
       "      <td>Mammal</td>\n",
       "      <td>Eastern Small-Footed Bat, Eastern Small-Footed...</td>\n",
       "      <td>Species of Concern</td>\n",
       "      <td>True</td>\n",
       "      <td>True</td>\n",
       "    </tr>\n",
       "    <tr>\n",
       "      <th>141</th>\n",
       "      <td>Myotis leibii</td>\n",
       "      <td>Bryce National Park</td>\n",
       "      <td>84</td>\n",
       "      <td>Mammal</td>\n",
       "      <td>Eastern Small-Footed Bat, Eastern Small-Footed...</td>\n",
       "      <td>Species of Concern</td>\n",
       "      <td>True</td>\n",
       "      <td>True</td>\n",
       "    </tr>\n",
       "    <tr>\n",
       "      <th>142</th>\n",
       "      <td>Myotis leibii</td>\n",
       "      <td>Great Smoky Mountains National Park</td>\n",
       "      <td>49</td>\n",
       "      <td>Mammal</td>\n",
       "      <td>Eastern Small-Footed Bat, Eastern Small-Footed...</td>\n",
       "      <td>Species of Concern</td>\n",
       "      <td>True</td>\n",
       "      <td>True</td>\n",
       "    </tr>\n",
       "    <tr>\n",
       "      <th>143</th>\n",
       "      <td>Myotis leibii</td>\n",
       "      <td>Yellowstone National Park</td>\n",
       "      <td>233</td>\n",
       "      <td>Mammal</td>\n",
       "      <td>Eastern Small-Footed Bat, Eastern Small-Footed...</td>\n",
       "      <td>Species of Concern</td>\n",
       "      <td>True</td>\n",
       "      <td>True</td>\n",
       "    </tr>\n",
       "  </tbody>\n",
       "</table>\n",
       "<p>144 rows × 8 columns</p>\n",
       "</div>"
      ],
      "text/plain": [
       "              scientific_name                            park_name  \\\n",
       "0       Lasiurus blossevillii                  Bryce National Park   \n",
       "1       Lasiurus blossevillii  Great Smoky Mountains National Park   \n",
       "2       Lasiurus blossevillii               Yosemite National Park   \n",
       "3       Lasiurus blossevillii            Yellowstone National Park   \n",
       "4    Corynorhinus rafinesquii               Yosemite National Park   \n",
       "..                        ...                                  ...   \n",
       "139            Myotis sodalis            Yellowstone National Park   \n",
       "140             Myotis leibii               Yosemite National Park   \n",
       "141             Myotis leibii                  Bryce National Park   \n",
       "142             Myotis leibii  Great Smoky Mountains National Park   \n",
       "143             Myotis leibii            Yellowstone National Park   \n",
       "\n",
       "     observations category                                       common_names  \\\n",
       "0             113   Mammal                                    Western Red Bat   \n",
       "1              70   Mammal                                    Western Red Bat   \n",
       "2             123   Mammal                                    Western Red Bat   \n",
       "3             221   Mammal                                    Western Red Bat   \n",
       "4             188   Mammal                         Rafinesque's Big-Eared Bat   \n",
       "..            ...      ...                                                ...   \n",
       "139            68   Mammal              Indiana Bat, Indiana Or Social Myotis   \n",
       "140           132   Mammal  Eastern Small-Footed Bat, Eastern Small-Footed...   \n",
       "141            84   Mammal  Eastern Small-Footed Bat, Eastern Small-Footed...   \n",
       "142            49   Mammal  Eastern Small-Footed Bat, Eastern Small-Footed...   \n",
       "143           233   Mammal  Eastern Small-Footed Bat, Eastern Small-Footed...   \n",
       "\n",
       "    conservation_status  is_protected  is_bat  \n",
       "0    Species of Concern          True    True  \n",
       "1    Species of Concern          True    True  \n",
       "2    Species of Concern          True    True  \n",
       "3    Species of Concern          True    True  \n",
       "4       No Intervention         False    True  \n",
       "..                  ...           ...     ...  \n",
       "139          Endangered          True    True  \n",
       "140  Species of Concern          True    True  \n",
       "141  Species of Concern          True    True  \n",
       "142  Species of Concern          True    True  \n",
       "143  Species of Concern          True    True  \n",
       "\n",
       "[144 rows x 8 columns]"
      ]
     },
     "execution_count": 86,
     "metadata": {},
     "output_type": "execute_result"
    }
   ],
   "source": [
    "bat_observations = observations.merge(species[species.is_bat])\n",
    "bat_observations"
   ]
  },
  {
   "cell_type": "markdown",
   "metadata": {},
   "source": [
    "We can now start to look at bat observations across each of the four parks and split them into conservation status"
   ]
  },
  {
   "cell_type": "code",
   "execution_count": 87,
   "metadata": {},
   "outputs": [
    {
     "data": {
      "text/html": [
       "<div>\n",
       "<style scoped>\n",
       "    .dataframe tbody tr th:only-of-type {\n",
       "        vertical-align: middle;\n",
       "    }\n",
       "\n",
       "    .dataframe tbody tr th {\n",
       "        vertical-align: top;\n",
       "    }\n",
       "\n",
       "    .dataframe thead th {\n",
       "        text-align: right;\n",
       "    }\n",
       "</style>\n",
       "<table border=\"1\" class=\"dataframe\">\n",
       "  <thead>\n",
       "    <tr style=\"text-align: right;\">\n",
       "      <th></th>\n",
       "      <th>park_name</th>\n",
       "      <th>observations</th>\n",
       "    </tr>\n",
       "  </thead>\n",
       "  <tbody>\n",
       "    <tr>\n",
       "      <th>0</th>\n",
       "      <td>Bryce National Park</td>\n",
       "      <td>3433</td>\n",
       "    </tr>\n",
       "    <tr>\n",
       "      <th>1</th>\n",
       "      <td>Great Smoky Mountains National Park</td>\n",
       "      <td>2411</td>\n",
       "    </tr>\n",
       "    <tr>\n",
       "      <th>2</th>\n",
       "      <td>Yellowstone National Park</td>\n",
       "      <td>8362</td>\n",
       "    </tr>\n",
       "    <tr>\n",
       "      <th>3</th>\n",
       "      <td>Yosemite National Park</td>\n",
       "      <td>4786</td>\n",
       "    </tr>\n",
       "  </tbody>\n",
       "</table>\n",
       "</div>"
      ],
      "text/plain": [
       "                             park_name  observations\n",
       "0                  Bryce National Park          3433\n",
       "1  Great Smoky Mountains National Park          2411\n",
       "2            Yellowstone National Park          8362\n",
       "3               Yosemite National Park          4786"
      ]
     },
     "execution_count": 87,
     "metadata": {},
     "output_type": "execute_result"
    }
   ],
   "source": [
    "bat_observations.groupby('park_name').observations.sum().reset_index()"
   ]
  },
  {
   "cell_type": "code",
   "execution_count": 89,
   "metadata": {},
   "outputs": [
    {
     "data": {
      "text/html": [
       "<div>\n",
       "<style scoped>\n",
       "    .dataframe tbody tr th:only-of-type {\n",
       "        vertical-align: middle;\n",
       "    }\n",
       "\n",
       "    .dataframe tbody tr th {\n",
       "        vertical-align: top;\n",
       "    }\n",
       "\n",
       "    .dataframe thead th {\n",
       "        text-align: right;\n",
       "    }\n",
       "</style>\n",
       "<table border=\"1\" class=\"dataframe\">\n",
       "  <thead>\n",
       "    <tr style=\"text-align: right;\">\n",
       "      <th></th>\n",
       "      <th>park_name</th>\n",
       "      <th>is_protected</th>\n",
       "      <th>observations</th>\n",
       "    </tr>\n",
       "  </thead>\n",
       "  <tbody>\n",
       "    <tr>\n",
       "      <th>0</th>\n",
       "      <td>Bryce National Park</td>\n",
       "      <td>False</td>\n",
       "      <td>1596</td>\n",
       "    </tr>\n",
       "    <tr>\n",
       "      <th>1</th>\n",
       "      <td>Bryce National Park</td>\n",
       "      <td>True</td>\n",
       "      <td>1837</td>\n",
       "    </tr>\n",
       "    <tr>\n",
       "      <th>2</th>\n",
       "      <td>Great Smoky Mountains National Park</td>\n",
       "      <td>False</td>\n",
       "      <td>1299</td>\n",
       "    </tr>\n",
       "    <tr>\n",
       "      <th>3</th>\n",
       "      <td>Great Smoky Mountains National Park</td>\n",
       "      <td>True</td>\n",
       "      <td>1112</td>\n",
       "    </tr>\n",
       "    <tr>\n",
       "      <th>4</th>\n",
       "      <td>Yellowstone National Park</td>\n",
       "      <td>False</td>\n",
       "      <td>4044</td>\n",
       "    </tr>\n",
       "    <tr>\n",
       "      <th>5</th>\n",
       "      <td>Yellowstone National Park</td>\n",
       "      <td>True</td>\n",
       "      <td>4318</td>\n",
       "    </tr>\n",
       "    <tr>\n",
       "      <th>6</th>\n",
       "      <td>Yosemite National Park</td>\n",
       "      <td>False</td>\n",
       "      <td>2345</td>\n",
       "    </tr>\n",
       "    <tr>\n",
       "      <th>7</th>\n",
       "      <td>Yosemite National Park</td>\n",
       "      <td>True</td>\n",
       "      <td>2441</td>\n",
       "    </tr>\n",
       "  </tbody>\n",
       "</table>\n",
       "</div>"
      ],
      "text/plain": [
       "                             park_name  is_protected  observations\n",
       "0                  Bryce National Park         False          1596\n",
       "1                  Bryce National Park          True          1837\n",
       "2  Great Smoky Mountains National Park         False          1299\n",
       "3  Great Smoky Mountains National Park          True          1112\n",
       "4            Yellowstone National Park         False          4044\n",
       "5            Yellowstone National Park          True          4318\n",
       "6               Yosemite National Park         False          2345\n",
       "7               Yosemite National Park          True          2441"
      ]
     },
     "execution_count": 89,
     "metadata": {},
     "output_type": "execute_result"
    }
   ],
   "source": [
    "obs_by_park = bat_observations.groupby(['park_name', 'is_protected']).observations.sum().reset_index()\n",
    "obs_by_park"
   ]
  },
  {
   "cell_type": "markdown",
   "metadata": {},
   "source": [
    "This data appears to show that there are more bats without a protection status than those that are protected in three of the four national parks (excluding Bryce National Park). I will create a side-by-side bar chart to better visualise this data:"
   ]
  },
  {
   "cell_type": "code",
   "execution_count": 91,
   "metadata": {},
   "outputs": [
    {
     "data": {
      "image/png": "[encoded data removed]",
      "text/plain": [
       "<Figure size 1600x400 with 1 Axes>"
      ]
     },
     "metadata": {},
     "output_type": "display_data"
    }
   ],
   "source": [
    "plt.figure(figsize=(16, 4))\n",
    "sns.barplot(x=obs_by_park.park_name, y= obs_by_park.observations, hue=obs_by_park.is_protected)\n",
    "plt.xlabel('National Parks')\n",
    "plt.ylabel('Number of Observations')\n",
    "plt.title('Observations of Bats per Week')\n",
    "plt.show()"
   ]
  },
  {
   "cell_type": "markdown",
   "metadata": {},
   "source": [
    "# Summary"
   ]
  },
  {
   "cell_type": "markdown",
   "metadata": {},
   "source": [
    "- What is the distribution of conservation status for species?\n",
    "    - 5633 species are under no protection status and 191 species are under a protection status across the four national parks. \n",
    "- Are certain types of species more likely to be endangered?\n",
    "    - Mammal (17%) and Bird (15%) are the most likely species to be endangered. \n",
    "- Are the differences between species and their conservation status significant?\n",
    "    - Mammal is at a significantly greater risk when compared to Reptile, Nonvascular and Vascular Plant.\n",
    "    - Bird is at a significantly greater risk when compared to Nonvascular and Vascular Plant.\n",
    "    - There is no significant difference between the two most endangered species Mammal and Bird.\n",
    "- Which animal is most prevalent and what is their distribution amongst parks?\n",
    "    - Bats are the most prevalent animals and can be most often found at Yellowstone National Park (8362). The bat occurences in the other parks were Yosemite National Park (4786), Bryce National Park (3433), and Great Smoky Mountains National Park (2411).\n",
    "    - There are more bats without a protection status than those that are protected in three of the four national parks (excluding Bryce National Park)"
   ]
  }
 ],
 "metadata": {
  "kernelspec": {
   "display_name": "Python 3 (ipykernel)",
   "language": "python",
   "name": "python3"
  },
  "language_info": {
   "codemirror_mode": {
    "name": "ipython",
    "version": 3
   },
   "file_extension": ".py",
   "mimetype": "text/x-python",
   "name": "python",
   "nbconvert_exporter": "python",
   "pygments_lexer": "ipython3",
   "version": "3.10.9"
  }
 },
 "nbformat": 4,
 "nbformat_minor": 4
}
